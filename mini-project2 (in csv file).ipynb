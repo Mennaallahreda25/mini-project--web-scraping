{
 "cells": [
  {
   "cell_type": "code",
   "execution_count": 88,
   "id": "2a196a94",
   "metadata": {
    "ExecuteTime": {
     "end_time": "2022-09-13T15:09:22.226776Z",
     "start_time": "2022-09-13T15:09:22.209906Z"
    }
   },
   "outputs": [],
   "source": [
    "#input your ratin recommandtion to see the movies you prefer"
   ]
  },
  {
   "cell_type": "code",
   "execution_count": 84,
   "id": "539c5d5c",
   "metadata": {
    "ExecuteTime": {
     "end_time": "2022-09-13T14:58:41.593870Z",
     "start_time": "2022-09-13T14:57:41.718660Z"
    }
   },
   "outputs": [
    {
     "name": "stdout",
     "output_type": "stream",
     "text": [
      "Enter you rating for recomendation:\n",
      "8.7\n",
      "The Shawshank Redemption\n",
      "The Godfather\n",
      "The Dark Knight\n",
      "The Godfather Part II\n",
      "12 Angry Men\n",
      "Schindler's List\n",
      "The Lord of the Rings: The Return of the King\n",
      "Pulp Fiction\n",
      "The Lord of the Rings: The Fellowship of the Ring\n",
      "Il buono, il brutto, il cattivo\n",
      "Forrest Gump\n"
     ]
    }
   ],
   "source": [
    "from bs4 import BeautifulSoup\n",
    "import requests\n",
    "import csv\n",
    "url = \"https://www.imdb.com/chart/top?ref_=nv_mv_250\"\n",
    "page = requests.get(url)\n",
    "soup = BeautifulSoup(page.text, \"html.parser\")\n",
    "raw_html = soup.find(\"tbody\", {\"class\": \"lister-list\"}).findAll(\"tr\")\n",
    "def main_fun():\n",
    "    movies_list = []\n",
    "    for html in raw_html:\n",
    "        title = html.find(\"td\", {\"class\":\"titleColumn\"}).find(\"a\").get_text()\n",
    "\n",
    "        rating = html.find(\"td\", {\"class\":\"ratingColumn imdbRating\"}).find(\"strong\").get_text()\n",
    "        rating = float(rating)\n",
    "\n",
    "        raw_list = [title, rating]\n",
    "        movies_list.append(raw_list)\n",
    "\n",
    "    recomendation(movies_list)\n",
    "    create_csv(movies_list)\n",
    "def recomendation(m_list):\n",
    "    print(\"Enter you rating for recomendation:\")\n",
    "    user_rating = input()\n",
    "    user_rating = float(user_rating)\n",
    "    for x in range(len(m_list)):\n",
    "        if m_list[x][1]>user_rating:\n",
    "            print(m_list[x][0])\n",
    "def create_csv(movies):\n",
    "    with open('movies.csv', 'w') as csvfile:\n",
    "        writer = csv.writer(csvfile)\n",
    "        row = ['Name', 'Rating']\n",
    "        writer.writerow(row)\n",
    "        for x in range(len(movies)):\n",
    "            row = movies[x]\n",
    "            writer.writerow(row)\n",
    "    csvfile.close()\n",
    "main_fun()"
   ]
  },
  {
   "cell_type": "code",
   "execution_count": 89,
   "id": "e1090b39",
   "metadata": {
    "ExecuteTime": {
     "end_time": "2022-09-13T15:10:08.202287Z",
     "start_time": "2022-09-13T15:10:08.192205Z"
    }
   },
   "outputs": [],
   "source": [
    "#scrap informarion from IMDB"
   ]
  },
  {
   "cell_type": "code",
   "execution_count": 87,
   "id": "7312e10b",
   "metadata": {
    "ExecuteTime": {
     "end_time": "2022-09-13T15:07:22.176275Z",
     "start_time": "2022-09-13T15:07:18.539810Z"
    }
   },
   "outputs": [],
   "source": [
    "from bs4 import BeautifulSoup\n",
    "import requests\n",
    "import pandas as pd\n",
    "\n",
    "url = \"https://www.imdb.com/chart/top/\"\n",
    "page = requests.get(url)\n",
    "page\n",
    "\n",
    "## display the page source code\n",
    "# page.content\n",
    "soup = BeautifulSoup(page.content, \"html.parser\")\n",
    "# print(soup.prettify())\n",
    "# scrap movie names\n",
    "scraped_movies = soup.find_all('td', class_='titleColumn')\n",
    "scraped_movies\n",
    "# parse movie names\n",
    "movies = []\n",
    "for movie in scraped_movies:\n",
    "    movie = movie.get_text().replace('\\n', \"\")\n",
    "    movie = movie.strip(\" \")\n",
    "    movies.append(movie)\n",
    "movies\n",
    "\n",
    "# scrap rating for movies\n",
    "scraped_ratings = soup.find_all('td', class_='ratingColumn imdbRating')\n",
    "scraped_ratings\n",
    "\n",
    "# parse ratings\n",
    "ratings = []\n",
    "for rating in scraped_ratings:\n",
    "    rating = rating.get_text().replace('\\n', '')\n",
    "    ratings.append(rating)\n",
    "ratings\n",
    "\n",
    "data = pd.DataFrame()\n",
    "data['Movie Names'] = movies\n",
    "data['Ratings'] = ratings\n",
    "data.head()\n",
    "\n",
    "data.to_csv('IMDB Top Movies.csv', index=False)\n"
   ]
  },
  {
   "cell_type": "code",
   "execution_count": null,
   "id": "bc082ef7",
   "metadata": {},
   "outputs": [],
   "source": []
  }
 ],
 "metadata": {
  "kernelspec": {
   "display_name": "Python 3 (ipykernel)",
   "language": "python",
   "name": "python3"
  },
  "language_info": {
   "codemirror_mode": {
    "name": "ipython",
    "version": 3
   },
   "file_extension": ".py",
   "mimetype": "text/x-python",
   "name": "python",
   "nbconvert_exporter": "python",
   "pygments_lexer": "ipython3",
   "version": "3.9.12"
  },
  "toc": {
   "base_numbering": 1,
   "nav_menu": {},
   "number_sections": true,
   "sideBar": true,
   "skip_h1_title": false,
   "title_cell": "Table of Contents",
   "title_sidebar": "Contents",
   "toc_cell": false,
   "toc_position": {},
   "toc_section_display": true,
   "toc_window_display": false
  },
  "varInspector": {
   "cols": {
    "lenName": 16,
    "lenType": 16,
    "lenVar": 40
   },
   "kernels_config": {
    "python": {
     "delete_cmd_postfix": "",
     "delete_cmd_prefix": "del ",
     "library": "var_list.py",
     "varRefreshCmd": "print(var_dic_list())"
    },
    "r": {
     "delete_cmd_postfix": ") ",
     "delete_cmd_prefix": "rm(",
     "library": "var_list.r",
     "varRefreshCmd": "cat(var_dic_list()) "
    }
   },
   "types_to_exclude": [
    "module",
    "function",
    "builtin_function_or_method",
    "instance",
    "_Feature"
   ],
   "window_display": false
  }
 },
 "nbformat": 4,
 "nbformat_minor": 5
}
